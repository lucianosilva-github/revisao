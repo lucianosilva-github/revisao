{
  "nbformat": 4,
  "nbformat_minor": 0,
  "metadata": {
    "colab": {
      "provenance": [],
      "authorship_tag": "ABX9TyMPHlpRhyHo//Lh/24zS0AI",
      "include_colab_link": true
    },
    "kernelspec": {
      "name": "python3",
      "display_name": "Python 3"
    },
    "language_info": {
      "name": "python"
    }
  },
  "cells": [
    {
      "cell_type": "markdown",
      "metadata": {
        "id": "view-in-github",
        "colab_type": "text"
      },
      "source": [
        "<a href=\"https://colab.research.google.com/github/lucianosilva-github/revisao/blob/main/RESOLU%C3%87%C3%83O_REVIS%C3%83O.ipynb\" target=\"_parent\"><img src=\"https://colab.research.google.com/assets/colab-badge.svg\" alt=\"Open In Colab\"/></a>"
      ]
    },
    {
      "cell_type": "markdown",
      "source": [
        "**QUESTÃO 01**"
      ],
      "metadata": {
        "id": "1jvqLqipHBlO"
      }
    },
    {
      "cell_type": "code",
      "execution_count": 56,
      "metadata": {
        "colab": {
          "base_uri": "https://localhost:8080/"
        },
        "id": "SJ4mfrF2G_Xt",
        "outputId": "729968d3-60ec-4224-c503-d85752c3714f"
      },
      "outputs": [
        {
          "output_type": "stream",
          "name": "stdout",
          "text": [
            "Overwriting centro.cpp\n"
          ]
        }
      ],
      "source": [
        "%%writefile centro.cpp\n",
        "\n",
        "#include <iostream>\n",
        "#include <vector>\n",
        "#include <algorithm>\n",
        "\n",
        "int main(){\n",
        "    \n",
        "    // LEITURA DA INSTÂNCIA\n",
        "    int n;\n",
        "    std::cin >> n;\n",
        "    int k;\n",
        "    std::cin >> k;\n",
        "\n",
        "    std::vector<std::vector<int>> distancias; // matriz de distâncias\n",
        "\n",
        "    for(int i = 0; i < n; i ++){\n",
        "      std::vector<int> linha;\n",
        "      for(int j = 0; j < n; j++){\n",
        "           int distancia;\n",
        "           std::cin >> distancia;\n",
        "           linha.push_back(distancia);\n",
        "      }\n",
        "      distancias.push_back(linha);\n",
        "    }\n",
        "\n",
        "    // ESTRATÉGIA GULOSA\n",
        "\n",
        "    std::vector<int> centros; // índices dos centros de distribuição\n",
        "    int centro=0; // centro atual\n",
        "\n",
        "    for(int c=0;c<k;c++){\n",
        "       std::cout<<centro<<\" \";\n",
        "       centros.push_back(centro);\n",
        "       centro=std::max_element(distancias[centro].begin(),distancias[centro].end()) \n",
        "              - distancias[centro].begin();\n",
        "    }\n",
        "\n",
        "    std::cout<<std::endl;\n",
        "\n",
        "    // CÁLCULO DOS CENTROS DE CADA CIDADE\n",
        "\n",
        "    for(int cidade=0;cidade<n;cidade++){\n",
        "        int dmin=0; //distância mínima\n",
        "        centro=0;\n",
        "        for(int c=0;c<centros.size();c++)\n",
        "           if (distancias[cidade][centros[c]]<=dmin){\n",
        "              dmin=distancias[cidade][centros[c]];\n",
        "              centro=centros[c];\n",
        "           }\n",
        "        std::cout<<centro<<\" \";\n",
        "    }\n",
        "    std::cout<<std::endl;\n",
        "}"
      ]
    },
    {
      "cell_type": "code",
      "source": [
        "!g++ -o centro centro.cpp"
      ],
      "metadata": {
        "id": "T-NTtroyI4NG"
      },
      "execution_count": 57,
      "outputs": []
    },
    {
      "cell_type": "code",
      "source": [
        "!./centro < entrada-input.txt > entrada-output.txt"
      ],
      "metadata": {
        "id": "A2ykap01Jg4l"
      },
      "execution_count": 59,
      "outputs": []
    },
    {
      "cell_type": "markdown",
      "source": [
        "**QUESTÃO 02**\n",
        "\n",
        "Não, há uma solução melhor: centros de distribuição em 1 e 2."
      ],
      "metadata": {
        "id": "0w_rjp_UgORh"
      }
    },
    {
      "cell_type": "markdown",
      "source": [
        "**QUESTÃO 03**\n",
        "\n",
        "1. Inicializar metade dos centros de distribuição de forma aleatória.\n",
        "2. Aplicar a estratégia gulosa na segunda metade."
      ],
      "metadata": {
        "id": "ERTHpFcDgYMv"
      }
    },
    {
      "cell_type": "markdown",
      "source": [
        "**QUESTÃO 04**\n",
        "\n",
        "Ambas as técnicas percorrem o espaço de possíveis soluções:\n",
        "\n",
        "* Em exploitation temos procedimentos determinísticos, que sempre produzirão os mesmos resultados e que podem demorar para convergir para o valor ótimo.\n",
        "\n",
        "* Em Exploration, damos liberdade de escolhas aleatórias, podendo (dependendo da sorte) chegar a um valor ótimo com menos passos. "
      ],
      "metadata": {
        "id": "lmbMfddjguPR"
      }
    },
    {
      "cell_type": "markdown",
      "source": [
        "**QUESTÃO 05**\n",
        "\n",
        "Depende do projeto do semestre. "
      ],
      "metadata": {
        "id": "VpM1p6RHhplg"
      }
    },
    {
      "cell_type": "markdown",
      "source": [],
      "metadata": {
        "id": "kTz-sM51hvon"
      }
    },
    {
      "cell_type": "markdown",
      "source": [
        "**QUESTÃO 06**"
      ],
      "metadata": {
        "id": "toCTw4C_hypF"
      }
    },
    {
      "cell_type": "code",
      "source": [
        "!g++ -Wall -O3 -g badprime.cpp -o badprime"
      ],
      "metadata": {
        "id": "RBsyP9hQh2bi"
      },
      "execution_count": 60,
      "outputs": []
    },
    {
      "cell_type": "code",
      "source": [
        "!apt-get install valgrind"
      ],
      "metadata": {
        "colab": {
          "base_uri": "https://localhost:8080/"
        },
        "id": "3Uyqqz1ejD7j",
        "outputId": "de60a889-a538-4332-9aad-806c0ef2cc6c"
      },
      "execution_count": 62,
      "outputs": [
        {
          "output_type": "stream",
          "name": "stdout",
          "text": [
            "Reading package lists... Done\n",
            "Building dependency tree       \n",
            "Reading state information... Done\n",
            "The following additional packages will be installed:\n",
            "  gdb gdbserver libbabeltrace1 libc6-dbg libdw1\n",
            "Suggested packages:\n",
            "  gdb-doc valgrind-dbg valgrind-mpi kcachegrind alleyoop valkyrie\n",
            "The following NEW packages will be installed:\n",
            "  gdb gdbserver libbabeltrace1 libc6-dbg libdw1 valgrind\n",
            "0 upgraded, 6 newly installed, 0 to remove and 23 not upgraded.\n",
            "Need to get 44.2 MB of archives.\n",
            "After this operation, 132 MB of additional disk space will be used.\n",
            "Get:1 http://archive.ubuntu.com/ubuntu focal/main amd64 libdw1 amd64 0.176-1.1build1 [226 kB]\n",
            "Get:2 http://archive.ubuntu.com/ubuntu focal/main amd64 libbabeltrace1 amd64 1.5.8-1build1 [156 kB]\n",
            "Get:3 http://archive.ubuntu.com/ubuntu focal-updates/main amd64 gdb amd64 9.2-0ubuntu1~20.04.1 [3,222 kB]\n",
            "Get:4 http://archive.ubuntu.com/ubuntu focal-updates/main amd64 gdbserver amd64 9.2-0ubuntu1~20.04.1 [222 kB]\n",
            "Get:5 http://archive.ubuntu.com/ubuntu focal-updates/main amd64 libc6-dbg amd64 2.31-0ubuntu9.9 [20.0 MB]\n",
            "Get:6 http://archive.ubuntu.com/ubuntu focal-updates/main amd64 valgrind amd64 1:3.15.0-1ubuntu9.1 [20.3 MB]\n",
            "Fetched 44.2 MB in 4s (10.9 MB/s)\n",
            "Selecting previously unselected package libdw1:amd64.\n",
            "(Reading database ... 128285 files and directories currently installed.)\n",
            "Preparing to unpack .../0-libdw1_0.176-1.1build1_amd64.deb ...\n",
            "Unpacking libdw1:amd64 (0.176-1.1build1) ...\n",
            "Selecting previously unselected package libbabeltrace1:amd64.\n",
            "Preparing to unpack .../1-libbabeltrace1_1.5.8-1build1_amd64.deb ...\n",
            "Unpacking libbabeltrace1:amd64 (1.5.8-1build1) ...\n",
            "Selecting previously unselected package gdb.\n",
            "Preparing to unpack .../2-gdb_9.2-0ubuntu1~20.04.1_amd64.deb ...\n",
            "Unpacking gdb (9.2-0ubuntu1~20.04.1) ...\n",
            "Selecting previously unselected package gdbserver.\n",
            "Preparing to unpack .../3-gdbserver_9.2-0ubuntu1~20.04.1_amd64.deb ...\n",
            "Unpacking gdbserver (9.2-0ubuntu1~20.04.1) ...\n",
            "Selecting previously unselected package libc6-dbg:amd64.\n",
            "Preparing to unpack .../4-libc6-dbg_2.31-0ubuntu9.9_amd64.deb ...\n",
            "Unpacking libc6-dbg:amd64 (2.31-0ubuntu9.9) ...\n",
            "Selecting previously unselected package valgrind.\n",
            "Preparing to unpack .../5-valgrind_1%3a3.15.0-1ubuntu9.1_amd64.deb ...\n",
            "Unpacking valgrind (1:3.15.0-1ubuntu9.1) ...\n",
            "Setting up libdw1:amd64 (0.176-1.1build1) ...\n",
            "Setting up libc6-dbg:amd64 (2.31-0ubuntu9.9) ...\n",
            "Setting up libbabeltrace1:amd64 (1.5.8-1build1) ...\n",
            "Setting up gdbserver (9.2-0ubuntu1~20.04.1) ...\n",
            "Setting up valgrind (1:3.15.0-1ubuntu9.1) ...\n",
            "Setting up gdb (9.2-0ubuntu1~20.04.1) ...\n",
            "Processing triggers for man-db (2.9.1-1) ...\n",
            "Processing triggers for libc-bin (2.31-0ubuntu9.9) ...\n"
          ]
        }
      ]
    },
    {
      "cell_type": "code",
      "source": [
        "!valgrind --tool=callgrind ./badprime"
      ],
      "metadata": {
        "colab": {
          "base_uri": "https://localhost:8080/"
        },
        "id": "Z4M0vmcCi4jB",
        "outputId": "db7c2269-6ab3-4861-ef2c-1dc2e1322dfa"
      },
      "execution_count": 63,
      "outputs": [
        {
          "output_type": "stream",
          "name": "stdout",
          "text": [
            "==30642== Callgrind, a call-graph generating cache profiler\n",
            "==30642== Copyright (C) 2002-2017, and GNU GPL'd, by Josef Weidendorfer et al.\n",
            "==30642== Using Valgrind-3.15.0 and LibVEX; rerun with -h for copyright info\n",
            "==30642== Command: ./badprime\n",
            "==30642== \n",
            "==30642== For interactive control, run 'callgrind_control -h'.\n",
            "==30642== \n",
            "==30642== Events    : Ir\n",
            "==30642== Collected : 9403489\n",
            "==30642== \n",
            "==30642== I   refs:      9,403,489\n"
          ]
        }
      ]
    },
    {
      "cell_type": "code",
      "source": [
        "!ls"
      ],
      "metadata": {
        "colab": {
          "base_uri": "https://localhost:8080/"
        },
        "id": "JLfy3fB7jZI0",
        "outputId": "c61a930f-2f43-4b4c-ecc2-da046a866710"
      },
      "execution_count": 65,
      "outputs": [
        {
          "output_type": "stream",
          "name": "stdout",
          "text": [
            "badprime      callgrind.out.30642  centro.cpp\t      entrada-output.txt\n",
            "badprime.cpp  centro\t\t   entrada-input.txt  sample_data\n"
          ]
        }
      ]
    },
    {
      "cell_type": "code",
      "source": [
        "!callgrind_annotate callgrind.out.30642 badprime.cpp"
      ],
      "metadata": {
        "colab": {
          "base_uri": "https://localhost:8080/"
        },
        "id": "sTLYKLYojmll",
        "outputId": "0daded4a-b97c-46a1-acd6-17d797e4c9d2"
      },
      "execution_count": 66,
      "outputs": [
        {
          "output_type": "stream",
          "name": "stdout",
          "text": [
            "--------------------------------------------------------------------------------\n",
            "Profile data file 'callgrind.out.30642' (creator: callgrind-3.15.0)\n",
            "--------------------------------------------------------------------------------\n",
            "I1 cache: \n",
            "D1 cache: \n",
            "LL cache: \n",
            "Timerange: Basic block 0 - 2379231\n",
            "Trigger: Program termination\n",
            "Profiled target:  ./badprime (PID 30642, part 1)\n",
            "Events recorded:  Ir\n",
            "Events shown:     Ir\n",
            "Event sort order: Ir\n",
            "Thresholds:       99\n",
            "Include dirs:     \n",
            "User annotated:   badprime.cpp\n",
            "Auto-annotation:  off\n",
            "\n",
            "--------------------------------------------------------------------------------\n",
            "Ir        \n",
            "--------------------------------------------------------------------------------\n",
            "9,403,489  PROGRAM TOTALS\n",
            "\n",
            "--------------------------------------------------------------------------------\n",
            "Ir         file:function\n",
            "--------------------------------------------------------------------------------\n",
            "3,999,996  /usr/include/c++/9/cmath:main\n",
            "3,000,005  badprime.cpp:main [/content/badprime]\n",
            "1,038,402  /build/glibc-SzIz7B/glibc-2.31/elf/dl-lookup.c:_dl_lookup_symbol_x [/usr/lib/x86_64-linux-gnu/ld-2.31.so]\n",
            "  554,551  /build/glibc-SzIz7B/glibc-2.31/elf/dl-lookup.c:do_lookup_x [/usr/lib/x86_64-linux-gnu/ld-2.31.so]\n",
            "  273,339  /build/glibc-SzIz7B/glibc-2.31/elf/../sysdeps/x86_64/dl-machine.h:_dl_relocate_object\n",
            "  116,423  /build/glibc-SzIz7B/glibc-2.31/elf/dl-lookup.c:check_match [/usr/lib/x86_64-linux-gnu/ld-2.31.so]\n",
            "   90,045  /build/glibc-SzIz7B/glibc-2.31/elf/do-rel.h:_dl_relocate_object\n",
            "   80,524  /build/glibc-SzIz7B/glibc-2.31/string/../sysdeps/x86_64/strcmp.S:strcmp [/usr/lib/x86_64-linux-gnu/ld-2.31.so]\n",
            "   71,545  /build/glibc-SzIz7B/glibc-2.31/elf/dl-addr.c:_dl_addr [/usr/lib/x86_64-linux-gnu/libc-2.31.so]\n",
            "   33,695  /build/glibc-SzIz7B/glibc-2.31/elf/dl-tunables.c:__GI___tunables_init [/usr/lib/x86_64-linux-gnu/ld-2.31.so]\n",
            "   12,128  ???:std::locale::_Impl::_M_install_facet(std::locale::id const*, std::locale::facet const*) [/usr/lib/x86_64-linux-gnu/libstdc++.so.6.0.28]\n",
            "   10,128  /build/glibc-SzIz7B/glibc-2.31/elf/../sysdeps/generic/ldsodefs.h:_dl_relocate_object\n",
            "    9,480  /build/glibc-SzIz7B/glibc-2.31/elf/dl-tunables.h:__GI___tunables_init\n",
            "    8,960  /build/glibc-SzIz7B/glibc-2.31/wcsmbs/btowc.c:btowc [/usr/lib/x86_64-linux-gnu/libc-2.31.so]\n",
            "    7,615  /build/glibc-SzIz7B/glibc-2.31/elf/dl-version.c:_dl_check_map_versions [/usr/lib/x86_64-linux-gnu/ld-2.31.so]\n",
            "    6,447  /build/glibc-SzIz7B/glibc-2.31/elf/../sysdeps/generic/ldsodefs.h:do_lookup_x\n",
            "\n",
            "--------------------------------------------------------------------------------\n",
            "-- User-annotated source: badprime.cpp\n",
            "--------------------------------------------------------------------------------\n",
            "Ir        \n",
            "\n",
            "-- line 10 ----------------------------------------\n",
            "        .      {\n",
            "        .        return false;\n",
            "        .      }\n",
            "        .    }\n",
            "        .    return true;\n",
            "        .  }\n",
            "        .  \n",
            "        .  int main()\n",
            "        3  {\n",
            "        .    int primeCount = 0;\n",
            "2,999,999    for (int i = 0; i < 1000000; ++i)\n",
            "        .    {\n",
            "        .      if (isPrime(i))\n",
            "        .      {\n",
            "        .        ++primeCount;\n",
            "        .      }\n",
            "        .    }\n",
            "        6  }\n",
            "--------------------------------------------------------------------------------\n",
            "Ir        \n",
            "--------------------------------------------------------------------------------\n",
            "3,000,008  events annotated\n",
            "\n"
          ]
        }
      ]
    },
    {
      "cell_type": "markdown",
      "source": [
        "O laço for (int i = 0; i < 1000000; ++i) é o que necessita de atenção quanto ao desempenho. "
      ],
      "metadata": {
        "id": "5tRGklrakB0Y"
      }
    }
  ]
}